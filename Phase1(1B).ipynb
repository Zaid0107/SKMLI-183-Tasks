{
 "cells": [
  {
   "cell_type": "code",
   "execution_count": 1,
   "metadata": {},
   "outputs": [
    {
     "name": "stdout",
     "output_type": "stream",
     "text": [
      "Accuracy: 1.0\n",
      "Precision: 1.0\n",
      "Recall: 1.0\n",
      "Classification Report:\n",
      "              precision    recall  f1-score   support\n",
      "\n",
      "  Technology       1.00      1.00      1.00         1\n",
      "     Finance       1.00      1.00      1.00         2\n",
      "\n",
      "    accuracy                           1.00         3\n",
      "   macro avg       1.00      1.00      1.00         3\n",
      "weighted avg       1.00      1.00      1.00         3\n",
      "\n"
     ]
    },
    {
     "data": {
      "image/png": "[encoded data removed]",
      "text/plain": [
       "<Figure size 576x432 with 2 Axes>"
      ]
     },
     "metadata": {
      "needs_background": "light"
     },
     "output_type": "display_data"
    }
   ],
   "source": [
    "import numpy as np\n",
    "import matplotlib.pyplot as plt\n",
    "import seaborn as sns\n",
    "from sklearn.feature_extraction.text import CountVectorizer\n",
    "from sklearn.naive_bayes import MultinomialNB\n",
    "from sklearn.metrics import accuracy_score, precision_score, recall_score, confusion_matrix, classification_report\n",
    "from sklearn.model_selection import train_test_split\n",
    "\n",
    "# Define custom data\n",
    "documents = [\n",
    "    \"The new smartphone has amazing features and great battery life\",\n",
    "    \"The stock market saw a significant drop today due to economic concerns\",\n",
    "    \"The latest tech gadget is a breakthrough in artificial intelligence\",\n",
    "    \"Investors are wary of the upcoming financial regulations\",\n",
    "    \"The software update includes new performance enhancements\",\n",
    "    \"The new budget proposal aims to reduce corporate taxes\",\n",
    "    \"Technology companies are advancing rapidly in machine learning\",\n",
    "    \"The market is reacting to the recent interest rate changes\",\n",
    "    \"The new tablet has an excellent display and fast processor\",\n",
    "    \"The government announced new economic stimulus measures\"\n",
    "]\n",
    "\n",
    "labels = [\"Technology\", \"Finance\", \"Technology\", \"Finance\", \"Technology\", \"Finance\", \"Technology\", \"Finance\", \"Technology\", \"Finance\"]\n",
    "\n",
    "# Map labels to numeric values\n",
    "label_mapping = {\"Technology\": 0, \"Finance\": 1}\n",
    "labels_numeric = [label_mapping[label] for label in labels]\n",
    "\n",
    "# Split the dataset into training and testing sets\n",
    "X_train, X_test, y_train, y_test = train_test_split(documents, labels_numeric, test_size=0.3, random_state=42)\n",
    "\n",
    "# Initialize the CountVectorizer and transform the text data to feature vectors\n",
    "vectorizer = CountVectorizer()\n",
    "X_train_vec = vectorizer.fit_transform(X_train)\n",
    "X_test_vec = vectorizer.transform(X_test)\n",
    "\n",
    "# Initialize the Naïve Bayes classifier\n",
    "model = MultinomialNB()\n",
    "\n",
    "# Train the classifier\n",
    "model.fit(X_train_vec, y_train)\n",
    "\n",
    "# Make predictions\n",
    "y_pred = model.predict(X_test_vec)\n",
    "\n",
    "# Evaluate the model\n",
    "accuracy = accuracy_score(y_test, y_pred)\n",
    "precision = precision_score(y_test, y_pred, average='weighted')\n",
    "recall = recall_score(y_test, y_pred, average='weighted')\n",
    "report = classification_report(y_test, y_pred, target_names=label_mapping.keys())\n",
    "\n",
    "print(f'Accuracy: {accuracy}')\n",
    "print(f'Precision: {precision}')\n",
    "print(f'Recall: {recall}')\n",
    "print('Classification Report:')\n",
    "print(report)\n",
    "\n",
    "# Compute confusion matrix\n",
    "conf_matrix = confusion_matrix(y_test, y_pred, labels=list(label_mapping.values()))\n",
    "\n",
    "# Plot confusion matrix\n",
    "plt.figure(figsize=(8, 6))\n",
    "sns.heatmap(conf_matrix, annot=True, fmt='d', cmap='Blues', xticklabels=label_mapping.keys(), yticklabels=label_mapping.keys())\n",
    "plt.xlabel('Predicted Label')\n",
    "plt.ylabel('True Label')\n",
    "plt.title('Confusion Matrix')\n",
    "plt.show()"
   ]
  }
 ],
 "metadata": {
  "kernelspec": {
   "display_name": "base",
   "language": "python",
   "name": "python3"
  },
  "language_info": {
   "codemirror_mode": {
    "name": "ipython",
    "version": 3
   },
   "file_extension": ".py",
   "mimetype": "text/x-python",
   "name": "python",
   "nbconvert_exporter": "python",
   "pygments_lexer": "ipython3",
   "version": "3.9.12"
  }
 },
 "nbformat": 4,
 "nbformat_minor": 2
}
